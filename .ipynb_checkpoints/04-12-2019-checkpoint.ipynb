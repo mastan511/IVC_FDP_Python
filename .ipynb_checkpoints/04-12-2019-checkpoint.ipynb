{
 "cells": [
  {
   "cell_type": "code",
   "execution_count": 8,
   "metadata": {},
   "outputs": [
    {
     "name": "stdout",
     "output_type": "stream",
     "text": [
      "10\n",
      "11AK1A0501\t12AK1A0501\t13AK1A0501\n",
      "11AK1A0502\t12AK1A0502\t13AK1A0502\n",
      "11AK1A0503\t12AK1A0503\t13AK1A0503\n",
      "11AK1A0504\t12AK1A0504\t13AK1A0504\n",
      "11AK1A0505\t12AK1A0505\t13AK1A0505\n",
      "11AK1A0506\t12AK1A0506\t13AK1A0506\n",
      "11AK1A0507\t12AK1A0507\t13AK1A0507\n",
      "11AK1A0508\t12AK1A0508\t13AK1A0508\n",
      "11AK1A0509\t12AK1A0509\t13AK1A0509\n",
      "11AK1A0510\t12AK1A0510\t13AK1A0510\n"
     ]
    }
   ],
   "source": [
    "# For examples:\n",
    "\n",
    "n = int(input())\n",
    "for i in range(1,n+1):\n",
    "    print(\"11AK1A05%02d\\t12AK1A05%02d\\t13AK1A05%02d\"%(i,i,i))\n",
    "\n"
   ]
  },
  {
   "cell_type": "code",
   "execution_count": 11,
   "metadata": {},
   "outputs": [
    {
     "name": "stdout",
     "output_type": "stream",
     "text": [
      "10\n",
      "11AK1A0501\t12AK1A0501\n",
      "11AK1A0502\t12AK1A0502\n",
      "11AK1A0503\t12AK1A0503\n",
      "11AK1A0504\t12AK1A0504\n",
      "11AK1A0505\t12AK1A0505\n",
      "11AK1A0506\t12AK1A0506\n",
      "11AK1A0507\t12AK1A0507\n",
      "11AK1A0508\t12AK1A0508\n",
      "11AK1A0509\t12AK1A0509\n",
      "11AK1A0510\t12AK1A0510\n"
     ]
    }
   ],
   "source": [
    "# 4.5001\n",
    "# 4.5\n",
    "# print(\"%.\")\n",
    "# pyformat.info -> Format Specifiers\n",
    "\n",
    "\n",
    "n = int(input())\n",
    "for i in range(1,n+1):\n",
    "    print(\"11AK1A05{:02}\\t12AK1A05{:02}\".format(i,i))\n"
   ]
  },
  {
   "cell_type": "code",
   "execution_count": null,
   "metadata": {},
   "outputs": [],
   "source": [
    "Sample Test Case:\n",
    "Input: Enter starting range from user: 250\n",
    "       Enter ending range from user: 260\n",
    "Output:\n",
    "    11AK1A0250\n",
    "    ..........\n",
    "    ..........\n",
    "    11AK1A0260"
   ]
  },
  {
   "cell_type": "code",
   "execution_count": 14,
   "metadata": {},
   "outputs": [
    {
     "name": "stdout",
     "output_type": "stream",
     "text": [
      "0 1 2 3 4 5 6 7 8 9 45\n"
     ]
    }
   ],
   "source": [
    "n = 10\n",
    "s = 0\n",
    "for i in range(10):\n",
    "    print(i,end=\" \")\n",
    "    s = s+i\n",
    "print(s)"
   ]
  },
  {
   "cell_type": "code",
   "execution_count": 15,
   "metadata": {},
   "outputs": [],
   "source": [
    "#print the factors of given number\n",
    "\n",
    "#print the sum of n natural numbers\n",
    "\n",
    "#print the even numbers in bettwen given range \n",
    "#  both(lowerbound and upperbound) are inclusive\n",
    "\n",
    "#check the given number is a prime or not\n",
    "\n",
    "#print the prime numbers inbetween given range"
   ]
  },
  {
   "cell_type": "code",
   "execution_count": 17,
   "metadata": {},
   "outputs": [
    {
     "name": "stdout",
     "output_type": "stream",
     "text": [
      "1 2 3 4 5 6 7 8 9 "
     ]
    }
   ],
   "source": [
    "# range(lb,ub,step)\n",
    "for i in range(1,10):\n",
    "    print(i,end=\" \")"
   ]
  },
  {
   "cell_type": "code",
   "execution_count": 19,
   "metadata": {},
   "outputs": [
    {
     "name": "stdout",
     "output_type": "stream",
     "text": [
      "1 3 5 7 9 "
     ]
    }
   ],
   "source": [
    "# range(lb,ub,step)\n",
    "for i in range(1,10,2):\n",
    "    print(i,end=\" \")\n",
    "#1 2 3 4 5 6 7 8 9"
   ]
  },
  {
   "cell_type": "code",
   "execution_count": 23,
   "metadata": {},
   "outputs": [
    {
     "name": "stdout",
     "output_type": "stream",
     "text": [
      "5 10 15 20 25 30 35 40 45 50 55 60 65 70 75 80 85 90 95 "
     ]
    }
   ],
   "source": [
    "# 11,100\n",
    "for i in range(5,100,5):\n",
    "    print(i,end=\" \")"
   ]
  },
  {
   "cell_type": "code",
   "execution_count": 25,
   "metadata": {},
   "outputs": [
    {
     "name": "stdout",
     "output_type": "stream",
     "text": [
      "5344678902615565168453515468135513511355163023156123021354468613515313235315319876543\n",
      "85\n"
     ]
    }
   ],
   "source": [
    "# While:\n",
    "    \n",
    "#     Syntax:\n",
    "        \n",
    "#         while Condition:\n",
    "#             stmnts\n",
    "#             updation of itervariable\n",
    "\n",
    "n = int(input())\n",
    "c = 0\n",
    "while n!=0:\n",
    "    c+=1\n",
    "    n=n//10\n",
    "print(c)"
   ]
  },
  {
   "cell_type": "code",
   "execution_count": null,
   "metadata": {},
   "outputs": [],
   "source": [
    "# Input: 132465\n",
    "# Output: Given number is : 132465\n",
    "#         Digit Count is: 6\n",
    "\n",
    "Task - 1\n",
    "# Input: 134234\n",
    "# Output:\n",
    "#     Given number is: 134234\n",
    "#     Digit count is: 6\n",
    "#     Reverse number is: 432431\n",
    "#     Even Digit Count is: 3\n",
    "#     Odd Digit Count is: 3\n",
    "#     Even digits sum : 10\n",
    "#     Odd digits sum: 7\n",
    "-------------------------------------------------------\n",
    "Task - 2                   |          Task -3\n",
    "-------------------------------------------------------\n",
    "Input: 5                   |          Input: 3\n",
    "Output:                    |          Ouput:\n",
    "        1 1 1 1 1          |                * * *\n",
    "        2 2 2 2 2          |                *   *\n",
    "        3 3 3 3 3          |                * * * \n",
    "        4 4 4 4 4          |  \n",
    "        5 5 5 5 5          | \n"
   ]
  },
  {
   "cell_type": "code",
   "execution_count": null,
   "metadata": {},
   "outputs": [],
   "source": [
    " "
   ]
  },
  {
   "cell_type": "markdown",
   "metadata": {},
   "source": [
    "## Strings"
   ]
  },
  {
   "cell_type": "code",
   "execution_count": null,
   "metadata": {},
   "outputs": [],
   "source": []
  }
 ],
 "metadata": {
  "kernelspec": {
   "display_name": "Python 3",
   "language": "python",
   "name": "python3"
  },
  "language_info": {
   "codemirror_mode": {
    "name": "ipython",
    "version": 3
   },
   "file_extension": ".py",
   "mimetype": "text/x-python",
   "name": "python",
   "nbconvert_exporter": "python",
   "pygments_lexer": "ipython3",
   "version": "3.7.3"
  }
 },
 "nbformat": 4,
 "nbformat_minor": 2
}
