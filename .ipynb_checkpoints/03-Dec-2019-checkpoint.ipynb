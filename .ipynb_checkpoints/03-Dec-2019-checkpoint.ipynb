{
 "cells": [
  {
   "cell_type": "markdown",
   "metadata": {},
   "source": [
    "# Heading1\n",
    "## Heading2\n",
    "### Heading3\n",
    "#### Heading4\n",
    "##### Heading5\n",
    "###### Heading6\n",
    "\n",
    "\n",
    "\n"
   ]
  },
  {
   "cell_type": "markdown",
   "metadata": {},
   "source": [
    "Python Programming<br>\n",
    "**Python Programming**<br>\n",
    "**Bold**<br>\n",
    "*Italic*\n",
    "\n",
    "<https://www.google.com>\n",
    "\n",
    "\n",
    "* unOrdered List\n",
    "    * Sublst1\n",
    "        * Sublist \n",
    "        * sublist\n",
    "    * sublist2\n",
    "    * sublist3\n",
    "    \n",
    "    \n",
    "1. Ordered List\n",
    "2. Orderes List2\n",
    "  \n",
    "  \n",
    "  \n",
    "<img src=\"a.png\" width = \"100px\" height = \"100px\">"
   ]
  },
  {
   "cell_type": "markdown",
   "metadata": {},
   "source": [
    "## Python Basics"
   ]
  },
  {
   "cell_type": "code",
   "execution_count": 3,
   "metadata": {},
   "outputs": [
    {
     "name": "stdout",
     "output_type": "stream",
     "text": [
      "Hello World\n",
      "Hello APSSDC\n"
     ]
    }
   ],
   "source": [
    "#Print Statement\n",
    "print(\"Hello World\")\n",
    "print(\"Hello APSSDC\")"
   ]
  },
  {
   "cell_type": "markdown",
   "metadata": {},
   "source": [
    "### Variables In Python"
   ]
  },
  {
   "cell_type": "code",
   "execution_count": 9,
   "metadata": {},
   "outputs": [
    {
     "name": "stdout",
     "output_type": "stream",
     "text": [
      "<class 'int'>\n",
      "<class 'int'>\n",
      "<class 'str'>\n",
      "<class 'float'>\n",
      "<class 'bool'>\n"
     ]
    }
   ],
   "source": [
    "# Syntax:Variable_name = value\n",
    "a = 10\n",
    "b = 20\n",
    "s = \"Python\"\n",
    "c = 55.4\n",
    "d = True\n",
    "#If you want know the variable data type there is a \n",
    "#  predefined method called type()\n",
    "print(type(a))\n",
    "print(type(b))\n",
    "print(type(s))\n",
    "print(type(c))\n",
    "print(type(d))\n"
   ]
  },
  {
   "cell_type": "code",
   "execution_count": 10,
   "metadata": {},
   "outputs": [
    {
     "name": "stdout",
     "output_type": "stream",
     "text": [
      "<class 'str'>\n",
      "<class 'str'>\n",
      "<class 'str'>\n"
     ]
    }
   ],
   "source": [
    "k = \"50\"\n",
    "m = \"77.9\"\n",
    "n = \"True\"\n",
    "print(type(k))\n",
    "print(type(m))\n",
    "print(type(n))"
   ]
  },
  {
   "cell_type": "code",
   "execution_count": 14,
   "metadata": {},
   "outputs": [
    {
     "name": "stdout",
     "output_type": "stream",
     "text": [
      "60\n",
      "70\n",
      "80\n"
     ]
    }
   ],
   "source": [
    "a,b,c = 60,70,80\n",
    "print(a)\n",
    "print(b)\n",
    "print(c)"
   ]
  },
  {
   "cell_type": "code",
   "execution_count": 16,
   "metadata": {},
   "outputs": [
    {
     "name": "stdout",
     "output_type": "stream",
     "text": [
      "python\n"
     ]
    }
   ],
   "source": [
    "s = \"python\"\n",
    "print(s)"
   ]
  },
  {
   "cell_type": "code",
   "execution_count": 19,
   "metadata": {},
   "outputs": [
    {
     "name": "stdout",
     "output_type": "stream",
     "text": [
      "80\n",
      "Python\n",
      "True\n"
     ]
    }
   ],
   "source": [
    "a,b,c = 80,\"Python\",True\n",
    "print(a)\n",
    "print(b)\n",
    "print(c)"
   ]
  },
  {
   "cell_type": "code",
   "execution_count": 20,
   "metadata": {},
   "outputs": [
    {
     "name": "stdout",
     "output_type": "stream",
     "text": [
      "80 80 80 80\n"
     ]
    }
   ],
   "source": [
    "a = b = c = d = 80\n",
    "print(a,b,c,d)"
   ]
  },
  {
   "cell_type": "code",
   "execution_count": 24,
   "metadata": {},
   "outputs": [
    {
     "name": "stdout",
     "output_type": "stream",
     "text": [
      "<class 'str'>\n",
      "<class 'int'>\n"
     ]
    }
   ],
   "source": [
    "a = \"50\"#To integer there is \n",
    "print(type(a))            #predefined method called int()\n",
    "b = int(a)\n",
    "print(type(b))\n"
   ]
  },
  {
   "cell_type": "code",
   "execution_count": 28,
   "metadata": {},
   "outputs": [
    {
     "name": "stdout",
     "output_type": "stream",
     "text": [
      "<class 'str'>\n",
      "<class 'int'>\n"
     ]
    }
   ],
   "source": [
    "#If you want to convert any value into a string then \n",
    "#  there is predefined method called str()\n",
    "s = 555\n",
    "n = str(s)\n",
    "print(type(n))\n",
    "print(type(s))"
   ]
  },
  {
   "cell_type": "code",
   "execution_count": 31,
   "metadata": {},
   "outputs": [
    {
     "name": "stdout",
     "output_type": "stream",
     "text": [
      "<class 'int'>\n",
      "<class 'float'>\n"
     ]
    }
   ],
   "source": [
    "a = 60\n",
    "c = float(a)\n",
    "print(type(a))\n",
    "print(type(c))"
   ]
  },
  {
   "cell_type": "code",
   "execution_count": 34,
   "metadata": {},
   "outputs": [
    {
     "name": "stdout",
     "output_type": "stream",
     "text": [
      "140706476495968\n",
      "140706476497568\n"
     ]
    }
   ],
   "source": [
    "a = 10\n",
    "b = 60\n",
    "print(id(a))\n",
    "print(id(b))"
   ]
  },
  {
   "cell_type": "markdown",
   "metadata": {},
   "source": [
    "### Operators in Python"
   ]
  },
  {
   "cell_type": "markdown",
   "metadata": {},
   "source": [
    "- Arithmetic operators(+,-,*,/,%,**,//)\n",
    "- Assignment operators(=,+=,-=,*=,/=,**=)\n",
    "- Comparison operators(<,<=,>,>=,!=,==)\n",
    "* Logical operators(and,or,not)\n",
    "- Identity operators(is,is not)\n",
    "* Membership operators(in,not in)\n",
    "* Bitwise operators(&,|,^,~,<<,>>)"
   ]
  },
  {
   "cell_type": "code",
   "execution_count": 35,
   "metadata": {},
   "outputs": [
    {
     "name": "stdout",
     "output_type": "stream",
     "text": [
      "30\n",
      "10\n",
      "200\n",
      "2.0\n",
      "0\n",
      "10240000000000\n",
      "2\n"
     ]
    }
   ],
   "source": [
    "# Arithmetic operators(+,-,*,/,%,**,//)\n",
    "a = 20\n",
    "b = 10\n",
    "print(a+b)#It gives addition\n",
    "print(a-b)#Substraction\n",
    "print(a*b)#multiplication\n",
    "print(a/b)#float Division\n",
    "print(a%b)#modulus division(It gives Reminder)\n",
    "print(a**b)# power of \n",
    "print(a//b)## Integer Division"
   ]
  },
  {
   "cell_type": "code",
   "execution_count": 45,
   "metadata": {},
   "outputs": [
    {
     "name": "stdout",
     "output_type": "stream",
     "text": [
      "50\n",
      "<class 'str'>\n",
      "50\n",
      "<class 'int'>\n"
     ]
    }
   ],
   "source": [
    "#If you want to access the input from the user\n",
    "#   there is predefined method called input()\n",
    "a = input()\n",
    "print(type(a))\n",
    "a = int(a)\n",
    "print(a)\n",
    "print(type(a))"
   ]
  },
  {
   "cell_type": "code",
   "execution_count": 4,
   "metadata": {},
   "outputs": [
    {
     "name": "stdout",
     "output_type": "stream",
     "text": [
      "Enter a value 70\n"
     ]
    }
   ],
   "source": [
    "a = input(\"Enter a value \")"
   ]
  },
  {
   "cell_type": "code",
   "execution_count": 20,
   "metadata": {},
   "outputs": [
    {
     "name": "stdout",
     "output_type": "stream",
     "text": [
      "Enter a value 10\n",
      "Enter b value 5\n",
      "sum of  10 and 5 is :  15\n",
      "Substraction of  10 and 5 is :  5\n",
      "multiplication of  10 and 5 is :  50\n",
      "Division of  10 and 5 is :  2.0\n",
      "Modular Division of  10 and 5 is :  0\n",
      "10  Power of  5 100000\n"
     ]
    }
   ],
   "source": [
    "#Task\n",
    "#1.Read the two values from the user and \n",
    "#   then perform the arthematic operations \n",
    "#       by using arthematic operators \n",
    "#Input: a = 10\n",
    "#       b = 10\n",
    "#output:Sum of 10 and 10 is : 20\n",
    "#       Multiplication of 10 and 10 is : 100\n",
    "a = int(input(\"Enter a value \"))\n",
    "b = int(input(\"Enter b value \"))\n",
    "print(\"sum of \",a,\"and\",b,\"is : \",a+b)\n",
    "print(\"Substraction of \",a,\"and\",b,\"is : \",a-b)\n",
    "print(\"multiplication of \",a,\"and\",b,\"is : \",a*b)\n",
    "print(\"Division of \",a,\"and\",b,\"is : \",a/b)\n",
    "print(\"Modular Division of \",a,\"and\",b,\"is : \",a%b)\n",
    "print(a,\" Power of \",b,a**b)\n",
    "\n",
    "\n",
    "\n"
   ]
  },
  {
   "cell_type": "code",
   "execution_count": null,
   "metadata": {},
   "outputs": [],
   "source": []
  },
  {
   "cell_type": "code",
   "execution_count": 31,
   "metadata": {},
   "outputs": [
    {
     "name": "stdout",
     "output_type": "stream",
     "text": [
      "False\n",
      "2.5\n"
     ]
    }
   ],
   "source": [
    "#Assignment operators(=,+=,-=,*=,/=,**=)\n",
    "a = 10\n",
    "b = 4\n",
    "print(a==b)\n",
    "a+=1#a = a+1\n",
    "a-=1#a=a-1\n",
    "a*=1#a = a*1\n",
    "a/=4#a = a/4\n",
    "print(a)"
   ]
  },
  {
   "cell_type": "code",
   "execution_count": 37,
   "metadata": {},
   "outputs": [
    {
     "name": "stdout",
     "output_type": "stream",
     "text": [
      "True\n",
      "False\n",
      "True\n",
      "False\n",
      "True\n",
      "False\n"
     ]
    }
   ],
   "source": [
    "#Comparison operators(<,<=,>,>=,!=,==)\n",
    "a = 10\n",
    "b = 50\n",
    "print(a<b)\n",
    "print(a>b)\n",
    "print(a<=b)\n",
    "print(a>=b)\n",
    "print(a!=b)\n",
    "print(a==b)"
   ]
  },
  {
   "cell_type": "code",
   "execution_count": 46,
   "metadata": {},
   "outputs": [
    {
     "name": "stdout",
     "output_type": "stream",
     "text": [
      "False\n",
      "True\n",
      "True\n"
     ]
    }
   ],
   "source": [
    "#Logical operators(and,or,not)\n",
    "a = 10\n",
    "b = 60\n",
    "print(a<5 and b>6)\n",
    "print(a<5 or b>6)\n",
    "print(not a<5)"
   ]
  },
  {
   "cell_type": "code",
   "execution_count": 55,
   "metadata": {},
   "outputs": [
    {
     "name": "stdout",
     "output_type": "stream",
     "text": [
      "4\n",
      "5\n",
      "-6\n",
      "10\n",
      "0\n"
     ]
    }
   ],
   "source": [
    "#Bitwise operators(&,|,^,~,<<,>>)\n",
    "#8421\n",
    "a = 5  #0101  #0010\n",
    "b = 4  #0100  \n",
    "#      ======\n",
    "#       0100\n",
    "print(a&b)\n",
    "print(a|b)\n",
    "print(~a)#-(a+1)\n",
    "print(a<<1)\n",
    "print(a>>6)"
   ]
  },
  {
   "cell_type": "markdown",
   "metadata": {},
   "source": [
    "### Conditional Statements\n",
    "* If\n",
    "* If else\n",
    "* nested If\n",
    "* elif"
   ]
  },
  {
   "cell_type": "code",
   "execution_count": 60,
   "metadata": {},
   "outputs": [
    {
     "name": "stdout",
     "output_type": "stream",
     "text": [
      "Even\n"
     ]
    }
   ],
   "source": [
    "#If Statement\n",
    "#Syntax : \n",
    "# if condition:\n",
    "#     statements\n",
    "a = 6\n",
    "if a%2 == 0:\n",
    "    print(\"Even\")\n",
    "    \n",
    "        "
   ]
  },
  {
   "cell_type": "code",
   "execution_count": 62,
   "metadata": {},
   "outputs": [
    {
     "name": "stdout",
     "output_type": "stream",
     "text": [
      "6\n",
      "EVEN\n"
     ]
    }
   ],
   "source": [
    "#If else Statement \n",
    "# Syntax:\n",
    "# if condtion:\n",
    "#     statements..\n",
    "# else:\n",
    "#     statements..\n",
    "# To check given number is a odd or even\n",
    "n = int(input())\n",
    "if n%2 != 0:\n",
    "    print(\"ODD\")\n",
    "else:\n",
    "    print(\"EVEN\")\n",
    "    \n",
    "    "
   ]
  },
  {
   "cell_type": "code",
   "execution_count": 63,
   "metadata": {},
   "outputs": [],
   "source": [
    "#To check given number positive number or not\n",
    "#    If the number is postive then print(\"POSITIVE\")\n",
    "#    If the number is negative the print(\"NEGATIVE\")"
   ]
  },
  {
   "cell_type": "code",
   "execution_count": 64,
   "metadata": {},
   "outputs": [],
   "source": [
    "# To heck given number is divisible by 3 and 7\n",
    "# if it is divisible by both numbers(3,7) then \n",
    "# print that number other wise \n",
    "# print \"not divisible by 3 and 7\""
   ]
  },
  {
   "cell_type": "code",
   "execution_count": 67,
   "metadata": {},
   "outputs": [
    {
     "name": "stdout",
     "output_type": "stream",
     "text": [
      "5\n",
      "Odd\n"
     ]
    }
   ],
   "source": [
    "#nested IF\n",
    "#Syntax:\n",
    "# if condition:\n",
    "#     if condition:\n",
    "#         statements..\n",
    "# else:\n",
    "#     statments..\n",
    "#If the given number is positive then check that number\n",
    "# Even or Odd\n",
    "n = int(input())\n",
    "if n>0:\n",
    "    if n%2 == 0:\n",
    "        print(\"Even\")\n",
    "    else:\n",
    "        print(\"Odd\")\n",
    "else:\n",
    "    print(\"The given number is negative\")"
   ]
  },
  {
   "cell_type": "code",
   "execution_count": null,
   "metadata": {},
   "outputs": [],
   "source": [
    "#syntax:\n",
    "# if condition1:\n",
    "#     statement1\n",
    "# elif condition2:\n",
    "#     statement2\n",
    "# elif condition3:\n",
    "#     statement3\n",
    "# elif conditionn:\n",
    "#     statementn\n",
    "# else:\n",
    "#     statement\n",
    "\n"
   ]
  },
  {
   "cell_type": "code",
   "execution_count": 68,
   "metadata": {},
   "outputs": [
    {
     "name": "stdout",
     "output_type": "stream",
     "text": [
      "11\n",
      "11\n"
     ]
    }
   ],
   "source": [
    "n = int(input())\n",
    "if n%3==0:\n",
    "    print(n,\"is Divisible by 3\")\n",
    "elif n%5==0:\n",
    "    print(n,\"is Divisible by 5\")\n",
    "elif n%7==0:\n",
    "    print(n,\"is Divisible by 7\")\n",
    "else:\n",
    "    print(n)"
   ]
  },
  {
   "cell_type": "code",
   "execution_count": 69,
   "metadata": {},
   "outputs": [
    {
     "name": "stdout",
     "output_type": "stream",
     "text": [
      "-345\n",
      "NEGATIVE\n"
     ]
    }
   ],
   "source": [
    "n = int(input())\n",
    "if n>0:\n",
    "    print(\"POSITIVE\")\n",
    "else:\n",
    "    print(\"NEGATIVE\")"
   ]
  },
  {
   "cell_type": "code",
   "execution_count": null,
   "metadata": {},
   "outputs": [],
   "source": [
    "# userid: 455\n",
    "# pin: 1010\n",
    "    \n",
    "# Input: Enter userid: 566\n",
    "#        Enter pin: 255\n",
    "# Output: Invalid userid 566 or pin\n",
    "    \n",
    "# Input: Enter userid: 455\n",
    "#        Enter pin: 154\n",
    "# Output: Invalid userid 455 or pin\n",
    "    \n",
    "# Input: Enter userid: 455\n",
    "#        Enter pin: 1010\n",
    "# Output: Welcome User 455\n",
    "    "
   ]
  },
  {
   "cell_type": "code",
   "execution_count": 72,
   "metadata": {},
   "outputs": [
    {
     "name": "stdout",
     "output_type": "stream",
     "text": [
      "Enter Userid: 455\n",
      "Enter pin: 1010\n",
      "Welcome User  455\n"
     ]
    }
   ],
   "source": [
    "print(\"Registration Process details\")\n",
    "print(\"-----------------------------------\")\n",
    "fuid = int(input(\"Enter userid to fix: \"))\n",
    "fpin = int(input(\"Enter pin to fix: \"))\n",
    "print(\"-----------------------------------\")\n",
    "print(\"Userid pin Validation\")\n",
    "print(\"-----------------------------------\")\n",
    "uid = int(input(\"Enter Userid: \"))\n",
    "pin = int(input(\"Enter pin: \"))\n",
    "if uid == fuid and pin == fpin:\n",
    "    print(\"Welcome User \",uid)\n",
    "else:\n",
    "    print(\"Invalid userid \",uid,\"or pin\")"
   ]
  },
  {
   "cell_type": "code",
   "execution_count": null,
   "metadata": {},
   "outputs": [],
   "source": []
  }
 ],
 "metadata": {
  "kernelspec": {
   "display_name": "Python 3",
   "language": "python",
   "name": "python3"
  },
  "language_info": {
   "codemirror_mode": {
    "name": "ipython",
    "version": 3
   },
   "file_extension": ".py",
   "mimetype": "text/x-python",
   "name": "python",
   "nbconvert_exporter": "python",
   "pygments_lexer": "ipython3",
   "version": "3.7.3"
  }
 },
 "nbformat": 4,
 "nbformat_minor": 2
}
